{
  "nbformat": 4,
  "nbformat_minor": 0,
  "metadata": {
    "colab": {
      "provenance": [],
      "gpuType": "T4",
      "include_colab_link": true
    },
    "kernelspec": {
      "name": "python3",
      "display_name": "Python 3"
    },
    "language_info": {
      "name": "python"
    },
    "accelerator": "GPU"
  },
  "cells": [
    {
      "cell_type": "markdown",
      "metadata": {
        "id": "view-in-github",
        "colab_type": "text"
      },
      "source": [
        "<a href=\"https://colab.research.google.com/github/Eddycrack864/RVC-AI-Cover-Maker-UI/blob/main/assets/RVCAICoverMakerUI.ipynb\" target=\"_parent\"><img src=\"https://colab.research.google.com/assets/colab-badge.svg\" alt=\"Open In Colab\"/></a>"
      ]
    },
    {
      "cell_type": "markdown",
      "source": [
        "# **RVC AI Cover Maker UI**\n",
        "- Created by [Shirou](https://github.com/ShiromiyaG)\n",
        "- Maintained by [Not Eddy (Spanish Mod)](http://discord.com/users/274566299349155851) in [AI HUB](https://discord.gg/aihub) community\n",
        "<br>This colab uses the following projects:\n",
        "- [Music Source Separation Universal Training Code](https://github.com/ZFTurbo/Music-Source-Separation-Training) by [ZFTurbo](https://github.com/ZFTurbo)\n",
        "- [Applio](https://github.com/IAHispano/Applio) by [IAHispano](https://github.com/IAHispano)"
      ],
      "metadata": {
        "id": "c9P4leWNHMnk"
      }
    },
    {
      "cell_type": "code",
      "execution_count": null,
      "metadata": {
        "cellView": "form",
        "id": "T17zRP0AHKMo"
      },
      "outputs": [],
      "source": [
        "#@title ## **Install**\n",
        "import os\n",
        "import codecs\n",
        "from IPython.display import clear_output\n",
        "print(\"Installing requirements\")\n",
        "repo = codecs.decode(\"uggcf://tvguho.pbz/Rqqlpenpx864/EIP-NV-Pbire-Znxre-HV.tvg\", \"rot_13\")\n",
        "!git clone $repo main_program  &> /dev/null\n",
        "%cd main_program\n",
        "!pip install uv  &> /dev/null\n",
        "!uv venv .venv --python 3.10.12  &> /dev/null\n",
        "!uv pip install --no-deps -r requirements.txt  &> /dev/null\n",
        "!uv pip install torch==2.3.1 torchvision==0.18.1 torchaudio==2.3.1 --upgrade --index-url https://download.pytorch.org/whl/cu121  &> /dev/null\n",
        "!uv pip install numpy==1.23.5  &> /dev/null\n",
        "!pip install pyngrok  &> /dev/null\n",
        "!pip install tqdm  &> /dev/null\n",
        "!source .venv/bin/activate\n",
        "!python programs/applio_code/rvc/lib/tools/prerequisites_download.py\n",
        "clear_output()\n",
        "print(\"Requirements installed!\")"
      ]
    },
    {
      "cell_type": "code",
      "source": [
        "#@title ## **Start (With NGROK)**\n",
        "from pyngrok import ngrok\n",
        "import codecs\n",
        "from IPython.display import clear_output\n",
        "ngrok_token = \"\" #@param {type:\"string\"}\n",
        "ngrok.set_auth_token(ngrok_token)\n",
        "ngrok.kill()\n",
        "main_tunnel = ngrok.connect(7755)\n",
        "clear_output()\n",
        "print(\"RVC URL:\", main_tunnel.public_url)\n",
        "runtime=codecs.decode(\"znva.cl\", \"rot_13\")\n",
        "!source .venv/bin/activate\n",
        "!python $runtime"
      ],
      "metadata": {
        "cellView": "form",
        "id": "3SFugx7VLCGq"
      },
      "execution_count": null,
      "outputs": []
    },
    {
      "cell_type": "code",
      "source": [
        "#@title ## **Start (Without NGROK)**\n",
        "import codecs\n",
        "runtime=codecs.decode(\"znva.cl --funer\", \"rot_13\")\n",
        "!source .venv/bin/activate\n",
        "!python $runtime"
      ],
      "metadata": {
        "cellView": "form",
        "id": "R0aXc4R1G8bV"
      },
      "execution_count": null,
      "outputs": []
    }
  ]
}